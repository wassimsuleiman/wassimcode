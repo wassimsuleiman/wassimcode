{
 "cells": [
  {
   "cell_type": "code",
   "execution_count": 1,
   "metadata": {},
   "outputs": [],
   "source": [
    "import pandas as pd \n",
    "import numpy as np \n",
    "import matplotlib.pyplot as plt\n",
    "import seaborn as sns\n",
    "\n",
    "from sklearn.linear_model import LogisticRegression\n",
    "from sklearn.tree import DecisionTreeClassifier\n",
    "from sklearn.ensemble import RandomForestClassifier\n",
    "from sklearn.metrics import accuracy_score, f1_score, precision_score, recall_score\n",
    "from sklearn.metrics import confusion_matrix, roc_auc_score, roc_curve, classification_report, precision_recall_curve\n",
    "from sklearn.model_selection import train_test_split, cross_val_score, StratifiedKFold, GridSearchCV, RandomizedSearchCV\n",
    "\n",
    "from collections import Counter"
   ]
  },
  {
   "cell_type": "code",
   "execution_count": 2,
   "metadata": {},
   "outputs": [
    {
     "data": {
      "text/plain": [
       "(28382, 21)"
      ]
     },
     "execution_count": 2,
     "metadata": {},
     "output_type": "execute_result"
    }
   ],
   "source": [
    "df = pd.read_csv(\"churn_prediction.csv\")\n",
    "df.shape"
   ]
  },
  {
   "cell_type": "code",
   "execution_count": 3,
   "metadata": {},
   "outputs": [],
   "source": [
    "import h2o\n",
    "from h2o.estimators import H2ORandomForestEstimator"
   ]
  },
  {
   "cell_type": "code",
   "execution_count": 5,
   "metadata": {},
   "outputs": [
    {
     "name": "stdout",
     "output_type": "stream",
     "text": [
      "Checking whether there is an H2O instance running at http://localhost:54321 ..... not found.\n",
      "Attempting to start a local H2O server...\n",
      "  Java Version: java version \"1.8.0_291\"; Java(TM) SE Runtime Environment (build 1.8.0_291-b10); Java HotSpot(TM) 64-Bit Server VM (build 25.291-b10, mixed mode)\n",
      "  Starting server from /Library/Frameworks/Python.framework/Versions/3.7/lib/python3.7/site-packages/h2o/backend/bin/h2o.jar\n",
      "  Ice root: /var/folders/47/pldcybnn7h75bn3bpyp20fxm0000gn/T/tmpywx7p8c_\n",
      "  JVM stdout: /var/folders/47/pldcybnn7h75bn3bpyp20fxm0000gn/T/tmpywx7p8c_/h2o_wassimsuleiman_started_from_python.out\n",
      "  JVM stderr: /var/folders/47/pldcybnn7h75bn3bpyp20fxm0000gn/T/tmpywx7p8c_/h2o_wassimsuleiman_started_from_python.err\n",
      "  Server is running at http://127.0.0.1:54321\n",
      "Connecting to H2O server at http://127.0.0.1:54321 ... successful.\n"
     ]
    },
    {
     "data": {
      "text/html": [
       "<div style=\"overflow:auto\"><table style=\"width:50%\"><tr><td>H2O_cluster_uptime:</td>\n",
       "<td>07 secs</td></tr>\n",
       "<tr><td>H2O_cluster_timezone:</td>\n",
       "<td>America/Toronto</td></tr>\n",
       "<tr><td>H2O_data_parsing_timezone:</td>\n",
       "<td>UTC</td></tr>\n",
       "<tr><td>H2O_cluster_version:</td>\n",
       "<td>3.32.1.3</td></tr>\n",
       "<tr><td>H2O_cluster_version_age:</td>\n",
       "<td>1 month and 15 days </td></tr>\n",
       "<tr><td>H2O_cluster_name:</td>\n",
       "<td>H2O_from_python_wassimsuleiman_jcjv6z</td></tr>\n",
       "<tr><td>H2O_cluster_total_nodes:</td>\n",
       "<td>1</td></tr>\n",
       "<tr><td>H2O_cluster_free_memory:</td>\n",
       "<td>1.778 Gb</td></tr>\n",
       "<tr><td>H2O_cluster_total_cores:</td>\n",
       "<td>0</td></tr>\n",
       "<tr><td>H2O_cluster_allowed_cores:</td>\n",
       "<td>0</td></tr>\n",
       "<tr><td>H2O_cluster_status:</td>\n",
       "<td>accepting new members, healthy</td></tr>\n",
       "<tr><td>H2O_connection_url:</td>\n",
       "<td>http://127.0.0.1:54321</td></tr>\n",
       "<tr><td>H2O_connection_proxy:</td>\n",
       "<td>{\"http\": null, \"https\": null}</td></tr>\n",
       "<tr><td>H2O_internal_security:</td>\n",
       "<td>False</td></tr>\n",
       "<tr><td>H2O_API_Extensions:</td>\n",
       "<td>Amazon S3, XGBoost, Algos, AutoML, Core V3, TargetEncoder, Core V4</td></tr>\n",
       "<tr><td>Python_version:</td>\n",
       "<td>3.7.0 final</td></tr></table></div>"
      ],
      "text/plain": [
       "--------------------------  ------------------------------------------------------------------\n",
       "H2O_cluster_uptime:         07 secs\n",
       "H2O_cluster_timezone:       America/Toronto\n",
       "H2O_data_parsing_timezone:  UTC\n",
       "H2O_cluster_version:        3.32.1.3\n",
       "H2O_cluster_version_age:    1 month and 15 days\n",
       "H2O_cluster_name:           H2O_from_python_wassimsuleiman_jcjv6z\n",
       "H2O_cluster_total_nodes:    1\n",
       "H2O_cluster_free_memory:    1.778 Gb\n",
       "H2O_cluster_total_cores:    0\n",
       "H2O_cluster_allowed_cores:  0\n",
       "H2O_cluster_status:         accepting new members, healthy\n",
       "H2O_connection_url:         http://127.0.0.1:54321\n",
       "H2O_connection_proxy:       {\"http\": null, \"https\": null}\n",
       "H2O_internal_security:      False\n",
       "H2O_API_Extensions:         Amazon S3, XGBoost, Algos, AutoML, Core V3, TargetEncoder, Core V4\n",
       "Python_version:             3.7.0 final\n",
       "--------------------------  ------------------------------------------------------------------"
      ]
     },
     "metadata": {},
     "output_type": "display_data"
    }
   ],
   "source": [
    "h2o.init()\n"
   ]
  },
  {
   "cell_type": "code",
   "execution_count": 6,
   "metadata": {},
   "outputs": [
    {
     "name": "stdout",
     "output_type": "stream",
     "text": [
      "Parse progress: |█████████████████████████████████████████████████████████| 100%\n"
     ]
    }
   ],
   "source": [
    "# Load data from CSV\n",
    "data = h2o.import_file('churn_prediction.csv')"
   ]
  },
  {
   "cell_type": "code",
   "execution_count": 7,
   "metadata": {},
   "outputs": [
    {
     "data": {
      "text/html": [
       "<table>\n",
       "<thead>\n",
       "<tr><th style=\"text-align: right;\">  customer_id</th><th style=\"text-align: right;\">  vintage</th><th style=\"text-align: right;\">  age</th><th>gender  </th><th style=\"text-align: right;\">  dependents</th><th>occupation   </th><th style=\"text-align: right;\">  city</th><th style=\"text-align: right;\">  customer_nw_category</th><th style=\"text-align: right;\">  branch_code</th><th style=\"text-align: right;\">  current_balance</th><th style=\"text-align: right;\">  previous_month_end_balance</th><th style=\"text-align: right;\">  average_monthly_balance_prevQ</th><th style=\"text-align: right;\">  average_monthly_balance_prevQ2</th><th style=\"text-align: right;\">  current_month_credit</th><th style=\"text-align: right;\">  previous_month_credit</th><th style=\"text-align: right;\">  current_month_debit</th><th style=\"text-align: right;\">  previous_month_debit</th><th style=\"text-align: right;\">  current_month_balance</th><th style=\"text-align: right;\">  previous_month_balance</th><th style=\"text-align: right;\">  churn</th><th>last_transaction   </th></tr>\n",
       "</thead>\n",
       "<tbody>\n",
       "<tr><td style=\"text-align: right;\">            1</td><td style=\"text-align: right;\">     2101</td><td style=\"text-align: right;\">   66</td><td>Male    </td><td style=\"text-align: right;\">           0</td><td>self_employed</td><td style=\"text-align: right;\">   187</td><td style=\"text-align: right;\">                     2</td><td style=\"text-align: right;\">          755</td><td style=\"text-align: right;\">          1458.71</td><td style=\"text-align: right;\">                     1458.71</td><td style=\"text-align: right;\">                        1458.71</td><td style=\"text-align: right;\">                         1449.07</td><td style=\"text-align: right;\">                  0.2 </td><td style=\"text-align: right;\">                   0.2 </td><td style=\"text-align: right;\">                 0.2 </td><td style=\"text-align: right;\">                  0.2 </td><td style=\"text-align: right;\">                1458.71</td><td style=\"text-align: right;\">                 1458.71</td><td style=\"text-align: right;\">      0</td><td>2019-05-21 00:00:00</td></tr>\n",
       "<tr><td style=\"text-align: right;\">            2</td><td style=\"text-align: right;\">     2348</td><td style=\"text-align: right;\">   35</td><td>Male    </td><td style=\"text-align: right;\">           0</td><td>self_employed</td><td style=\"text-align: right;\">   nan</td><td style=\"text-align: right;\">                     2</td><td style=\"text-align: right;\">         3214</td><td style=\"text-align: right;\">          5390.37</td><td style=\"text-align: right;\">                     8704.66</td><td style=\"text-align: right;\">                        7799.26</td><td style=\"text-align: right;\">                        12419.4 </td><td style=\"text-align: right;\">                  0.56</td><td style=\"text-align: right;\">                   0.56</td><td style=\"text-align: right;\">              5486.27</td><td style=\"text-align: right;\">                100.56</td><td style=\"text-align: right;\">                6496.78</td><td style=\"text-align: right;\">                 8787.61</td><td style=\"text-align: right;\">      0</td><td>2019-11-01 00:00:00</td></tr>\n",
       "<tr><td style=\"text-align: right;\">            4</td><td style=\"text-align: right;\">     2194</td><td style=\"text-align: right;\">   31</td><td>Male    </td><td style=\"text-align: right;\">           0</td><td>salaried     </td><td style=\"text-align: right;\">   146</td><td style=\"text-align: right;\">                     2</td><td style=\"text-align: right;\">           41</td><td style=\"text-align: right;\">          3913.16</td><td style=\"text-align: right;\">                     5815.29</td><td style=\"text-align: right;\">                        4910.17</td><td style=\"text-align: right;\">                         2815.94</td><td style=\"text-align: right;\">                  0.61</td><td style=\"text-align: right;\">                   0.61</td><td style=\"text-align: right;\">              6046.73</td><td style=\"text-align: right;\">                259.23</td><td style=\"text-align: right;\">                5006.28</td><td style=\"text-align: right;\">                 5070.14</td><td style=\"text-align: right;\">      0</td><td>                   </td></tr>\n",
       "<tr><td style=\"text-align: right;\">            5</td><td style=\"text-align: right;\">     2329</td><td style=\"text-align: right;\">   90</td><td>        </td><td style=\"text-align: right;\">         nan</td><td>self_employed</td><td style=\"text-align: right;\">  1020</td><td style=\"text-align: right;\">                     2</td><td style=\"text-align: right;\">          582</td><td style=\"text-align: right;\">          2291.91</td><td style=\"text-align: right;\">                     2291.91</td><td style=\"text-align: right;\">                        2084.54</td><td style=\"text-align: right;\">                         1006.54</td><td style=\"text-align: right;\">                  0.47</td><td style=\"text-align: right;\">                   0.47</td><td style=\"text-align: right;\">                 0.47</td><td style=\"text-align: right;\">               2143.33</td><td style=\"text-align: right;\">                2291.91</td><td style=\"text-align: right;\">                 1669.79</td><td style=\"text-align: right;\">      1</td><td>2019-08-06 00:00:00</td></tr>\n",
       "<tr><td style=\"text-align: right;\">            6</td><td style=\"text-align: right;\">     1579</td><td style=\"text-align: right;\">   42</td><td>Male    </td><td style=\"text-align: right;\">           2</td><td>self_employed</td><td style=\"text-align: right;\">  1494</td><td style=\"text-align: right;\">                     3</td><td style=\"text-align: right;\">          388</td><td style=\"text-align: right;\">           927.72</td><td style=\"text-align: right;\">                     1401.72</td><td style=\"text-align: right;\">                        1643.31</td><td style=\"text-align: right;\">                         1871.12</td><td style=\"text-align: right;\">                  0.33</td><td style=\"text-align: right;\">                 714.61</td><td style=\"text-align: right;\">               588.62</td><td style=\"text-align: right;\">               1538.06</td><td style=\"text-align: right;\">                1157.15</td><td style=\"text-align: right;\">                 1677.16</td><td style=\"text-align: right;\">      1</td><td>2019-11-03 00:00:00</td></tr>\n",
       "<tr><td style=\"text-align: right;\">            7</td><td style=\"text-align: right;\">     1923</td><td style=\"text-align: right;\">   42</td><td>Female  </td><td style=\"text-align: right;\">           0</td><td>self_employed</td><td style=\"text-align: right;\">  1096</td><td style=\"text-align: right;\">                     2</td><td style=\"text-align: right;\">         1666</td><td style=\"text-align: right;\">         15202.2 </td><td style=\"text-align: right;\">                    16059.3 </td><td style=\"text-align: right;\">                       15211.3 </td><td style=\"text-align: right;\">                        13798.8 </td><td style=\"text-align: right;\">                  0.36</td><td style=\"text-align: right;\">                   0.36</td><td style=\"text-align: right;\">               857.5 </td><td style=\"text-align: right;\">                286.07</td><td style=\"text-align: right;\">               15719.4 </td><td style=\"text-align: right;\">                15349.8 </td><td style=\"text-align: right;\">      0</td><td>2019-11-01 00:00:00</td></tr>\n",
       "<tr><td style=\"text-align: right;\">            8</td><td style=\"text-align: right;\">     2048</td><td style=\"text-align: right;\">   72</td><td>Male    </td><td style=\"text-align: right;\">           0</td><td>retired      </td><td style=\"text-align: right;\">  1020</td><td style=\"text-align: right;\">                     1</td><td style=\"text-align: right;\">            1</td><td style=\"text-align: right;\">          7006.93</td><td style=\"text-align: right;\">                     7714.19</td><td style=\"text-align: right;\">                        7859.74</td><td style=\"text-align: right;\">                        11232.4 </td><td style=\"text-align: right;\">                  0.64</td><td style=\"text-align: right;\">                   0.64</td><td style=\"text-align: right;\">              1299.64</td><td style=\"text-align: right;\">                439.26</td><td style=\"text-align: right;\">                7076.06</td><td style=\"text-align: right;\">                 7755.98</td><td style=\"text-align: right;\">      0</td><td>2019-09-24 00:00:00</td></tr>\n",
       "<tr><td style=\"text-align: right;\">            9</td><td style=\"text-align: right;\">     2009</td><td style=\"text-align: right;\">   46</td><td>Male    </td><td style=\"text-align: right;\">           0</td><td>self_employed</td><td style=\"text-align: right;\">   623</td><td style=\"text-align: right;\">                     2</td><td style=\"text-align: right;\">          317</td><td style=\"text-align: right;\">         10096.6 </td><td style=\"text-align: right;\">                     8519.53</td><td style=\"text-align: right;\">                        6511.82</td><td style=\"text-align: right;\">                        16314.2 </td><td style=\"text-align: right;\">                  0.27</td><td style=\"text-align: right;\">                   0.27</td><td style=\"text-align: right;\">               443.13</td><td style=\"text-align: right;\">               5688.44</td><td style=\"text-align: right;\">                8563.84</td><td style=\"text-align: right;\">                 5317.04</td><td style=\"text-align: right;\">      0</td><td>2019-07-12 00:00:00</td></tr>\n",
       "<tr><td style=\"text-align: right;\">           10</td><td style=\"text-align: right;\">     2053</td><td style=\"text-align: right;\">   31</td><td>Male    </td><td style=\"text-align: right;\">           0</td><td>salaried     </td><td style=\"text-align: right;\">  1096</td><td style=\"text-align: right;\">                     2</td><td style=\"text-align: right;\">         4110</td><td style=\"text-align: right;\">          1355.86</td><td style=\"text-align: right;\">                     1355.86</td><td style=\"text-align: right;\">                        1702.44</td><td style=\"text-align: right;\">                         1126.13</td><td style=\"text-align: right;\">                714.51</td><td style=\"text-align: right;\">                 121.09</td><td style=\"text-align: right;\">               714.51</td><td style=\"text-align: right;\">                359.44</td><td style=\"text-align: right;\">                1183.45</td><td style=\"text-align: right;\">                 1857.42</td><td style=\"text-align: right;\">      0</td><td>2019-12-12 00:00:00</td></tr>\n",
       "<tr><td style=\"text-align: right;\">           11</td><td style=\"text-align: right;\">     2295</td><td style=\"text-align: right;\">   40</td><td>Male    </td><td style=\"text-align: right;\">           3</td><td>self_employed</td><td style=\"text-align: right;\">  1020</td><td style=\"text-align: right;\">                     2</td><td style=\"text-align: right;\">           38</td><td style=\"text-align: right;\">          4957.95</td><td style=\"text-align: right;\">                     4244.38</td><td style=\"text-align: right;\">                        2168.53</td><td style=\"text-align: right;\">                         1864.33</td><td style=\"text-align: right;\">               6912.29</td><td style=\"text-align: right;\">                4206.13</td><td style=\"text-align: right;\">              1887.3 </td><td style=\"text-align: right;\">               1348.85</td><td style=\"text-align: right;\">                1823.16</td><td style=\"text-align: right;\">                 2416.69</td><td style=\"text-align: right;\">      0</td><td>2019-12-31 00:00:00</td></tr>\n",
       "</tbody>\n",
       "</table>"
      ]
     },
     "metadata": {},
     "output_type": "display_data"
    },
    {
     "data": {
      "text/plain": []
     },
     "execution_count": 7,
     "metadata": {},
     "output_type": "execute_result"
    }
   ],
   "source": [
    "data.head()"
   ]
  },
  {
   "cell_type": "code",
   "execution_count": 8,
   "metadata": {},
   "outputs": [],
   "source": [
    "# Split data into train and testing\n",
    "train, test = data.split_frame(ratios=[0.8])"
   ]
  },
  {
   "cell_type": "code",
   "execution_count": 9,
   "metadata": {},
   "outputs": [],
   "source": [
    "# Output parameter train against input parameters\n",
    "response_column = 'churn'"
   ]
  },
  {
   "cell_type": "code",
   "execution_count": 16,
   "metadata": {},
   "outputs": [],
   "source": [
    "# Input parameters that are going to train\n",
    "training_columns = list(df.columns)"
   ]
  },
  {
   "cell_type": "code",
   "execution_count": 17,
   "metadata": {},
   "outputs": [
    {
     "data": {
      "text/plain": [
       "['customer_id',\n",
       " 'vintage',\n",
       " 'age',\n",
       " 'gender',\n",
       " 'dependents',\n",
       " 'occupation',\n",
       " 'city',\n",
       " 'customer_nw_category',\n",
       " 'branch_code',\n",
       " 'current_balance',\n",
       " 'previous_month_end_balance',\n",
       " 'average_monthly_balance_prevQ',\n",
       " 'average_monthly_balance_prevQ2',\n",
       " 'current_month_credit',\n",
       " 'previous_month_credit',\n",
       " 'current_month_debit',\n",
       " 'previous_month_debit',\n",
       " 'current_month_balance',\n",
       " 'previous_month_balance',\n",
       " 'churn',\n",
       " 'last_transaction']"
      ]
     },
     "execution_count": 17,
     "metadata": {},
     "output_type": "execute_result"
    }
   ],
   "source": [
    "training_columns"
   ]
  },
  {
   "cell_type": "code",
   "execution_count": 18,
   "metadata": {},
   "outputs": [],
   "source": [
    "training_columns = training_columns.remove(response_column)"
   ]
  },
  {
   "cell_type": "markdown",
   "metadata": {},
   "source": [
    "## No enhancement "
   ]
  },
  {
   "cell_type": "code",
   "execution_count": 19,
   "metadata": {},
   "outputs": [
    {
     "name": "stdout",
     "output_type": "stream",
     "text": [
      "drf Model Build progress: |███████████████████████████████████████████████| 100%\n"
     ]
    }
   ],
   "source": [
    "# Define model\n",
    "model = H2ORandomForestEstimator(ntrees=50, max_depth=20, nfolds=10)\n",
    "\n",
    "# Train model\n",
    "model.train(x=training_columns, y=response_column, training_frame=train)"
   ]
  },
  {
   "cell_type": "code",
   "execution_count": 24,
   "metadata": {},
   "outputs": [
    {
     "name": "stdout",
     "output_type": "stream",
     "text": [
      "\n",
      "ModelMetricsRegression: drf\n",
      "** Reported on test data. **\n",
      "\n",
      "MSE: 0.10489723779148498\n",
      "RMSE: 0.32387843057462934\n",
      "MAE: 0.22219857541604135\n",
      "RMSLE: 0.2276860838244122\n",
      "Mean Residual Deviance: 0.10489723779148498\n",
      "\n"
     ]
    }
   ],
   "source": [
    "# Model performance\n",
    "performance = model.model_performance(test_data=test)\n",
    "\n",
    "print (performance)"
   ]
  },
  {
   "cell_type": "code",
   "execution_count": 25,
   "metadata": {},
   "outputs": [
    {
     "name": "stdout",
     "output_type": "stream",
     "text": [
      "\n",
      "ModelMetricsRegression: drf\n",
      "** Reported on test data. **\n",
      "\n",
      "MSE: 0.10489723779148498\n",
      "RMSE: 0.32387843057462934\n",
      "MAE: 0.22219857541604135\n",
      "RMSLE: 0.2276860838244122\n",
      "Mean Residual Deviance: 0.10489723779148498\n"
     ]
    }
   ],
   "source": [
    "performance.show()"
   ]
  },
  {
   "cell_type": "code",
   "execution_count": 23,
   "metadata": {},
   "outputs": [
    {
     "data": {
      "image/png": "[encoded data removed]",
      "text/plain": [
       "<Figure size 1008x720 with 1 Axes>"
      ]
     },
     "metadata": {
      "needs_background": "light"
     },
     "output_type": "display_data"
    }
   ],
   "source": [
    "model.varimp_plot()"
   ]
  },
  {
   "cell_type": "code",
   "execution_count": null,
   "metadata": {},
   "outputs": [],
   "source": []
  }
 ],
 "metadata": {
  "kernelspec": {
   "display_name": "Python 3",
   "language": "python",
   "name": "python3"
  },
  "language_info": {
   "codemirror_mode": {
    "name": "ipython",
    "version": 3
   },
   "file_extension": ".py",
   "mimetype": "text/x-python",
   "name": "python",
   "nbconvert_exporter": "python",
   "pygments_lexer": "ipython3",
   "version": "3.7.0"
  }
 },
 "nbformat": 4,
 "nbformat_minor": 2
}
